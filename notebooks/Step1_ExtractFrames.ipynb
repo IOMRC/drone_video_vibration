{
 "cells": [
  {
   "cell_type": "code",
   "execution_count": 1,
   "metadata": {},
   "outputs": [
    {
     "name": "stdout",
     "output_type": "stream",
     "text": [
      "4.1.1\n"
     ]
    }
   ],
   "source": [
    "%matplotlib inline\n",
    "import matplotlib.pyplot as plt\n",
    "import cv2\n",
    "import os\n",
    "import shutil\n",
    "import numpy as np\n",
    "print(cv2.__version__)"
   ]
  },
  {
   "cell_type": "code",
   "execution_count": 3,
   "metadata": {},
   "outputs": [
    {
     "name": "stdout",
     "output_type": "stream",
     "text": [
      "FPS = 36.867778\n"
     ]
    }
   ],
   "source": [
    "video = 'record-20190122-211815'\n",
    "vidcap = cv2.VideoCapture(video + '.mp4')\n",
    "\n",
    "if os.path.isdir(video):\n",
    "    shutil.rmtree(video + '/')\n",
    "os.mkdir(video)\n",
    "\n",
    "fps = vidcap.get(cv2.CAP_PROP_FPS)\n",
    "print('FPS = %.6f' % fps)"
   ]
  },
  {
   "cell_type": "code",
   "execution_count": 4,
   "metadata": {},
   "outputs": [
    {
     "name": "stdout",
     "output_type": "stream",
     "text": [
      "Extracted frame:  0\n",
      "Extracted frame:  100\n",
      "Extracted frame:  200\n",
      "Extracted frame:  300\n",
      "Extracted frame:  400\n",
      "Extracted frame:  500\n",
      "Extracted frame:  600\n",
      "Extracted frame:  700\n",
      "Extracted frame:  800\n",
      "Extracted frame:  900\n",
      "Extracted frame:  1000\n"
     ]
    }
   ],
   "source": [
    "success,image = vidcap.read()\n",
    "count = 0\n",
    "success = True\n",
    "while success:\n",
    "  cv2.imwrite(video + \"/frame%07.0f.png\" % count, image[:,int(-1280/2):,:])     # save frame as PNG file\n",
    "  success,image = vidcap.read()\n",
    "  if count % 100 == 0:\n",
    "      print('Extracted frame: ', count)\n",
    "  count += 1"
   ]
  },
  {
   "cell_type": "code",
   "execution_count": null,
   "metadata": {},
   "outputs": [],
   "source": []
  }
 ],
 "metadata": {
  "kernelspec": {
   "display_name": "Python 3",
   "language": "python",
   "name": "python3"
  },
  "language_info": {
   "codemirror_mode": {
    "name": "ipython",
    "version": 3
   },
   "file_extension": ".py",
   "mimetype": "text/x-python",
   "name": "python",
   "nbconvert_exporter": "python",
   "pygments_lexer": "ipython3",
   "version": "3.7.3"
  }
 },
 "nbformat": 4,
 "nbformat_minor": 4
}
